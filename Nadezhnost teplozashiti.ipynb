{
 "cells": [
  {
   "cell_type": "code",
   "execution_count": 3,
   "id": "d9f4acf9-56b8-49d7-b7ad-b3ddac98f232",
   "metadata": {},
   "outputs": [],
   "source": [
    "import math\n",
    "import numpy as np\n",
    "import pandas as pd\n",
    "import matplotlib.pyplot as plt\n",
    "import scipy"
   ]
  },
  {
   "cell_type": "code",
   "execution_count": 16,
   "id": "89462cc0-5d33-4819-9e2e-4cf6cca3b46a",
   "metadata": {},
   "outputs": [],
   "source": [
    "eps = 0.88\n",
    "sig = 5.67*10**-8\n",
    "T = 800\n",
    "delta = 0.009425235965461689\n",
    "ro_izl = 8920\n",
    "G_izl = 13682.232265432767\n",
    "\n",
    "sigma = 0.003\n",
    "\n",
    "ro_izl_i_n = np.random.normal(ro_izl, sigma*ro_izl, 100000)\n",
    "sig_i_n = np.random.normal(sig, sigma*sig, 100000)\n",
    "T_i_n = np.random.normal(T, sigma*T, 100000)\n",
    "delta_i_n = np.random.normal(delta, sigma*delta, 100000)\n",
    "G_izl_i_n = np.random.normal(G_izl, sigma*G_izl, 100000)\n",
    "eps_i_n = np.random.normal(eps, sigma*eps, 100000)"
   ]
  },
  {
   "cell_type": "code",
   "execution_count": 17,
   "id": "03dda3d2-7cc0-4bef-ba35-67e6b6c40445",
   "metadata": {},
   "outputs": [
    {
     "name": "stdout",
     "output_type": "stream",
     "text": [
      "P = 0.49976\n"
     ]
    }
   ],
   "source": [
    "Q_izl_treb = 3326025.3230648716\n",
    "Q_izl_treb_n = np.random.normal(Q_izl_treb, sigma*Q_izl_treb, 100000)\n",
    "\n",
    "# Q_izl_treb = (G_izl/(delta*ro_izl))*eps*sig*T**4\n",
    "\n",
    "Q_izl_i_norm = (G_izl_i_n/(delta_i_n*ro_izl_i_n))*eps_i_n*sig_i_n*T_i_n**4\n",
    "\n",
    "P = (Q_izl_i_norm>=Q_izl_treb_n).mean()\n",
    "print(f'P =', P)"
   ]
  },
  {
   "cell_type": "code",
   "execution_count": null,
   "id": "4a0a5174-cc0f-46bd-a9d7-a46caedaf28b",
   "metadata": {},
   "outputs": [],
   "source": []
  },
  {
   "cell_type": "code",
   "execution_count": null,
   "id": "839f0eee-47aa-4dc5-9f50-1df867ba87dc",
   "metadata": {},
   "outputs": [],
   "source": []
  }
 ],
 "metadata": {
  "kernelspec": {
   "display_name": "Python 3 (ipykernel)",
   "language": "python",
   "name": "python3"
  },
  "language_info": {
   "codemirror_mode": {
    "name": "ipython",
    "version": 3
   },
   "file_extension": ".py",
   "mimetype": "text/x-python",
   "name": "python",
   "nbconvert_exporter": "python",
   "pygments_lexer": "ipython3",
   "version": "3.9.7"
  }
 },
 "nbformat": 4,
 "nbformat_minor": 5
}
