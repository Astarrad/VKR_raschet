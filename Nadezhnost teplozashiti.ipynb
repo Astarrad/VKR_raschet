{
 "cells": [
  {
   "cell_type": "code",
   "execution_count": 11,
   "id": "d9f4acf9-56b8-49d7-b7ad-b3ddac98f232",
   "metadata": {},
   "outputs": [],
   "source": [
    "import math\n",
    "import numpy as np\n",
    "import pandas as pd\n",
    "import matplotlib.pyplot as plt\n",
    "import scipy"
   ]
  },
  {
   "cell_type": "code",
   "execution_count": 12,
   "id": "89462cc0-5d33-4819-9e2e-4cf6cca3b46a",
   "metadata": {},
   "outputs": [],
   "source": [
    "eps = 0.88 # Степень черноты материала радиатора\n",
    "sig = 5.67*10**-8 # Постоянная Стефана-Больцмана\n",
    "T = 800 # Температура радиатора\n",
    "delta = 0.009425235965461689 # Толщина радиатора\n",
    "ro_izl = 8920 # Плотность материала радиатора (медь)\n",
    "G_izl = 13682.232265432767 # Масса радиатора\n",
    "\n",
    "A = 1.024 # Коэффициент запаса\n",
    "\n",
    "sigma = 0.003 # Коэффициент вариации"
   ]
  },
  {
   "cell_type": "code",
   "execution_count": 13,
   "id": "4f93479a-5538-44f4-8540-c6237cc4e973",
   "metadata": {},
   "outputs": [],
   "source": [
    "# Генерация случайных величин распределенных по нормальному закону\n",
    "\n",
    "n = 100000 # Количество сгенерированных реализаций случайной величины\n",
    "\n",
    "ro_izl_n = np.random.normal(ro_izl, sigma*ro_izl, n)\n",
    "sig_n = np.random.normal(sig, sigma*sig, n)\n",
    "T_n = np.random.normal(T, sigma*T, n)\n",
    "delta_n = np.random.normal(delta, sigma*delta, n)\n",
    "G_izl_n = np.random.normal(G_izl, sigma*G_izl, n)\n",
    "eps_n = np.random.normal(eps, sigma*eps, n)"
   ]
  },
  {
   "cell_type": "code",
   "execution_count": 14,
   "id": "03dda3d2-7cc0-4bef-ba35-67e6b6c40445",
   "metadata": {},
   "outputs": [
    {
     "name": "stdout",
     "output_type": "stream",
     "text": [
      "P = 0.95313\n"
     ]
    }
   ],
   "source": [
    "Q_izl_treb = 3326025.3230648716\n",
    "Q_izl_treb_n = np.random.normal(Q_izl_treb, sigma*Q_izl_treb, 100000)\n",
    "\n",
    "# Q_izl_treb = (G_izl/(delta*ro_izl))*eps*sig*T**4\n",
    "\n",
    "Q_izl_i_norm = (G_izl_n/(delta_n*ro_izl_n))*A*eps_n*sig_n*T_n**4\n",
    "\n",
    "P = (Q_izl_i_norm>=Q_izl_treb_n).mean()\n",
    "print(f'P =', P)"
   ]
  }
 ],
 "metadata": {
  "kernelspec": {
   "display_name": "Python 3 (ipykernel)",
   "language": "python",
   "name": "python3"
  },
  "language_info": {
   "codemirror_mode": {
    "name": "ipython",
    "version": 3
   },
   "file_extension": ".py",
   "mimetype": "text/x-python",
   "name": "python",
   "nbconvert_exporter": "python",
   "pygments_lexer": "ipython3",
   "version": "3.9.7"
  }
 },
 "nbformat": 4,
 "nbformat_minor": 5
}
