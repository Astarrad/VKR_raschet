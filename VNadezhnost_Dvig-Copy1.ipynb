{
 "cells": [
  {
   "cell_type": "code",
   "execution_count": 8,
   "id": "15931cc3-5b10-4890-89ce-73d2be57c6ad",
   "metadata": {},
   "outputs": [],
   "source": [
    "import math\n",
    "import numpy as np\n",
    "import pandas as pd\n",
    "import matplotlib.pyplot as plt\n",
    "from scipy import stats"
   ]
  },
  {
   "cell_type": "code",
   "execution_count": 46,
   "id": "17941310-0952-4438-be3b-1d792cb1b8dc",
   "metadata": {},
   "outputs": [],
   "source": [
    "# ДАНО:\n",
    "Mu = 3.981*10**14\n",
    "\n",
    "R_o = 6571000 # Радиус опорной орбиты\n",
    "R_r = 35780000 + 6371000 # Радиус рабочей орбиты\n",
    "i1 = 3*np.pi/180 # Изменение наклонения в первой точке приложения импульса\n",
    "i2 = 48.6*np.pi/180 # Изменение наклонения во второй точке приложения импульса\n",
    "i = 51.6*np.pi/180 # Требуемое изменение наклонения аппарата\n",
    "\n",
    "M_0 = 26000 # Начальная масса аппарата\n",
    "M_BM = 6000 # Масса аппарата без учёта массы топлива\n",
    "\n",
    "R_tor = 4/2\n",
    "r_tor = 2.49/2\n",
    "h_tor = 1.35056\n",
    "\n",
    "R_sph = 1.146\n",
    "\n",
    "Km = 3 # Отношение массового расхода окислителя к м.р. горючего\n",
    "ro_AT = 1443 # кг/м3 - плотность АТ\n",
    "ro_NDMG = 793 # кг/м3 - плотность НДМГ\n",
    "\n",
    "I_ud = 3200 # Удельный импульс двигателя\n",
    "\n",
    "A = 1.12 #Коэффициент запаса\n",
    "\n",
    "n = 50000 # Количество сгенерированных реализаций случайной величины\n",
    "\n",
    "k = 0.003 # Коэффициент вариации\n",
    "gamma = 0.997"
   ]
  },
  {
   "cell_type": "code",
   "execution_count": 47,
   "id": "900d6cc0-37c6-4670-8ca6-147f9dbe95ed",
   "metadata": {},
   "outputs": [
    {
     "data": {
      "text/plain": [
       "(6.305170239596469, 10.395010395010395)"
      ]
     },
     "execution_count": 47,
     "metadata": {},
     "output_type": "execute_result"
    }
   ],
   "source": [
    "# Определим объём топливных баков\n",
    "V_g = ((M_0-M_BM)/(Km+1))/ro_NDMG\n",
    "V_ok = ((M_0-M_BM)/(4/Km))/ro_AT\n",
    "V_g, V_ok"
   ]
  },
  {
   "cell_type": "code",
   "execution_count": 48,
   "id": "e1c925c2-6df9-4d69-9985-2428a5507432",
   "metadata": {},
   "outputs": [],
   "source": [
    "# Генерация случайных величин распределенных по нормальному закону\n",
    "\n",
    "R_o_n = np.random.normal(R_o, k*R_o, n)\n",
    "R_r_n = np.random.normal(R_r, k*R_r, n)\n",
    "\n",
    "M_BM_n = np.random.normal(M_BM, k*M_BM, n)\n",
    "# V_g_n = np.random.normal(V_g, k*V_g, n)\n",
    "ro_NDMG_n = np.random.normal(ro_NDMG, k*ro_NDMG, n)\n",
    "# V_ok_n = np.random.normal(V_ok, k*V_ok, n)\n",
    "ro_AT_n = np.random.normal(ro_AT, k*ro_AT, n)\n",
    "\n",
    "R_tor_n = np.random.normal(R_tor, k*R_tor, n)\n",
    "r_tor_n = np.random.normal(r_tor, k*r_tor, n)\n",
    "h_tor_n = np.random.normal(h_tor, k*h_tor, n)\n",
    "\n",
    "R_sph_n = np.random.normal(R_sph, k*R_sph, n)\n",
    "\n",
    "I_ud_n = np.random.normal(I_ud, k*I_ud, n)\n",
    "\n",
    "i_n = np.random.normal(i, k*i, n)"
   ]
  },
  {
   "cell_type": "code",
   "execution_count": 49,
   "id": "a28039c1-4b5a-4f3a-a63e-a0d66cd886a7",
   "metadata": {},
   "outputs": [],
   "source": [
    "# Генерация случайных величин распределенных по закону равномерной плотности\n",
    "\n",
    "A_R_o = R_o-np.sqrt(3)*R_o*k\n",
    "B_R_o = R_o+np.sqrt(3)*R_o*k\n",
    "R_o_un=np.random.uniform(A_R_o, B_R_o, n)\n",
    "\n",
    "A_R_r = R_r-np.sqrt(3)*R_r*k\n",
    "B_R_r = R_r+np.sqrt(3)*R_r*k\n",
    "R_r_un=np.random.uniform(A_R_r, B_R_r, n)\n",
    "\n",
    "\n",
    "A_M_BM = M_BM-np.sqrt(3)*M_BM*k\n",
    "B_M_BM = M_BM+np.sqrt(3)*M_BM*k\n",
    "M_BM_un=np.random.uniform(A_M_BM, B_M_BM, n)\n",
    "\n",
    "# A_V_g = V_g-np.sqrt(3)*V_g*k\n",
    "# B_V_g = V_g+np.sqrt(3)*V_g*k\n",
    "# V_g_un=np.random.uniform(A_V_g, B_V_g, n)\n",
    "\n",
    "A_ro_NDMG = ro_NDMG-np.sqrt(3)*ro_NDMG*k\n",
    "B_ro_NDMG = ro_NDMG+np.sqrt(3)*ro_NDMG*k\n",
    "ro_NDMG_un=np.random.uniform(A_ro_NDMG, B_ro_NDMG, n)\n",
    "\n",
    "# A_V_ok = V_ok-np.sqrt(3)*V_ok*k\n",
    "# B_V_ok = V_ok+np.sqrt(3)*V_ok*k\n",
    "# V_ok_un=np.random.uniform(A_V_ok, B_V_ok, n)\n",
    "\n",
    "A_ro_AT = ro_AT-np.sqrt(3)*ro_AT*k\n",
    "B_ro_AT = ro_AT+np.sqrt(3)*ro_AT*k\n",
    "ro_AT_un=np.random.uniform(A_ro_AT, B_ro_AT, n)\n",
    "\n",
    "\n",
    "A_R_tor = R_tor-np.sqrt(3)*R_tor*k\n",
    "B_R_tor = R_tor+np.sqrt(3)*R_tor*k\n",
    "R_tor_un=np.random.uniform(A_R_tor, B_R_tor, n)\n",
    "\n",
    "A_r_tor = r_tor-np.sqrt(3)*r_tor*k\n",
    "B_r_tor = r_tor+np.sqrt(3)*r_tor*k\n",
    "r_tor_un=np.random.uniform(A_r_tor, B_r_tor, n)\n",
    "\n",
    "A_h_tor = h_tor-np.sqrt(3)*h_tor*k\n",
    "B_h_tor = h_tor+np.sqrt(3)*h_tor*k\n",
    "h_tor_un=np.random.uniform(A_h_tor, B_h_tor, n)\n",
    "\n",
    "A_R_sph = R_sph-np.sqrt(3)*R_sph*k\n",
    "B_R_sph = R_sph+np.sqrt(3)*R_sph*k\n",
    "R_sph_un=np.random.uniform(A_R_sph, B_R_sph, n)\n",
    "\n",
    "\n",
    "A_I_ud = I_ud-np.sqrt(3)*I_ud*k\n",
    "B_I_ud = I_ud+np.sqrt(3)*I_ud*k\n",
    "I_ud_un=np.random.uniform(A_I_ud, B_I_ud, n)\n",
    "\n",
    "A_i = i-np.sqrt(3)*i*k\n",
    "B_i = i+np.sqrt(3)*i*k\n",
    "i_un=np.random.uniform(A_i, B_i, n)"
   ]
  },
  {
   "cell_type": "code",
   "execution_count": 50,
   "id": "e138db03-24dd-4099-a852-7b8c1f1fbd3e",
   "metadata": {},
   "outputs": [
    {
     "data": {
      "text/plain": [
       "21273.78186634624"
      ]
     },
     "execution_count": 50,
     "metadata": {},
     "output_type": "execute_result"
    }
   ],
   "source": [
    "# Определение массы топлива зависимой от случайных величин распределенных по нормальному закону\n",
    "V_g_n = 4/3*np.pi*R_sph_n**3\n",
    "V_ok_n = (R_tor_n**2-r_tor_n**2)*np.pi*h_tor_n\n",
    "\n",
    "M_zap_n = V_g_n*ro_NDMG_n+V_ok_n*ro_AT_n*A\n",
    "\n",
    "V_p_n = np.sqrt(Mu/R_o_n)*np.sqrt(1-2*np.sqrt(2*R_r_n/(R_r_n+R_o_n))*np.cos(i1)+2*R_r_n/(R_r_n+R_o_n))\n",
    "\n",
    "V_a_n = np.sqrt(Mu/R_r_n)*np.sqrt(1-2*np.sqrt(2*R_o_n/(R_r_n+R_o_n))*np.cos(i_n-i1)+2*R_o_n/(R_r_n+R_o_n))\n",
    "\n",
    "V_x_n = (V_p_n + V_a_n)\n",
    "\n",
    "# Mt_n = (M_BM_n+(M_0-M_BM))*(1-np.exp(-V_x_n/I_ud_n))\n",
    "\n",
    "Mt_n = (M_BM_n)*(1-np.exp(-V_x_n/I_ud_n))/(1-(1-np.exp(-V_x_n/I_ud_n)))\n",
    "Mt_n.mean()"
   ]
  },
  {
   "cell_type": "code",
   "execution_count": 51,
   "id": "44b5a404-15c5-438f-9f75-a63ecabf40f9",
   "metadata": {},
   "outputs": [
    {
     "data": {
      "text/plain": [
       "21274.13962702653"
      ]
     },
     "execution_count": 51,
     "metadata": {},
     "output_type": "execute_result"
    }
   ],
   "source": [
    "# Определение массы топлива зависимой от случайных величин распределенных по закону равномерной плотности\n",
    "V_g_un = 4/3*np.pi*R_sph_un**3\n",
    "V_ok_un = (R_tor_un**2-r_tor_un**2)*np.pi*h_tor_un\n",
    "\n",
    "M_zap_un = V_g_un*ro_NDMG_un+V_ok_un*ro_AT_un*A\n",
    "\n",
    "V_p_un = np.sqrt(Mu/R_o_un)*np.sqrt(1-2*np.sqrt(2*R_r_un/(R_r_un+R_o_un))*np.cos(i1)+2*R_r_un/(R_r_un+R_o_un))\n",
    "\n",
    "V_a_un = np.sqrt(Mu/R_r_un)*np.sqrt(1-2*np.sqrt(2*R_o_un/(R_r_un+R_o_un))*np.cos(i_un-i1)+2*R_o_un/(R_r_un+R_o_un))\n",
    "\n",
    "V_x_un = (V_p_un + V_a_un)\n",
    "\n",
    "# Mt_un = (M_BM_un+(M_0-M_BM))*(1-np.exp(-V_x_un/I_ud_un))\n",
    "Mt_un = (M_BM_un)*(1-np.exp(-V_x_un/I_ud_un))/(1-(1-np.exp(-V_x_un/I_ud_un)))\n",
    "Mt_un.mean()"
   ]
  },
  {
   "cell_type": "code",
   "execution_count": 52,
   "id": "f286e459-e4e3-414a-89f8-a0539a8ef230",
   "metadata": {},
   "outputs": [
    {
     "name": "stdout",
     "output_type": "stream",
     "text": [
      "Результаты метода статистических испытаний для нормального закона распределения и закона равномерной плотности:\n",
      "Количество испытаний для каждого закона = 50000 \n",
      "P_норм = 0.98296 \n",
      "\n",
      "Верхняя граница доверительного интервала при нормальном законе распределения = 0.9846776839686668 \n",
      "Нижняя граница доверительного интервала при нормальном законе распределения = 0.981242316031333 \n",
      "Погрешность определения ВБР при нормальном законе распределения = 0.0017474606989774163 \n",
      "\n",
      "P_р.п = 0.98472 \n",
      "\n",
      "Верхняя граница доверительного интервала при з.р.п = 0.9852677484073893 \n",
      "Нижняя граница доверительного интервала при з.р.п = 0.9841722515926108 \n",
      "Погрешность определения ВБР при з.р.п = 0.0005562478749180076\n"
     ]
    }
   ],
   "source": [
    "# Выражение для определения ВБР РБ\n",
    "\n",
    "P_n=(M_zap_n>=Mt_n).mean()\n",
    "tgamma_n = stats.norm.ppf((1+gamma)/2,0,1)\n",
    "delta1_n = tgamma_n*np.sqrt((1-P_n)/(P_n*n))\n",
    "P1_n = P_n+tgamma_n*np.sqrt(P_n*(1-P_n)/n)\n",
    "P2_n = P_n-tgamma_n*np.sqrt(P_n*(1-P_n)/n)\n",
    "\n",
    "P_un=(M_zap_un>=Mt_un).mean()\n",
    "tgamma_un = stats.uniform.ppf((1+gamma)/2,0,1)\n",
    "delta1_un = tgamma_un*np.sqrt((1-P_un)/(P_un*n))\n",
    "P1_un = P_un+tgamma_un*np.sqrt(P_un*(1-P_un)/n)\n",
    "P2_un = P_un-tgamma_un*np.sqrt(P_un*(1-P_un)/n)\n",
    "\n",
    "print('Результаты метода статистических испытаний для нормального закона распределения и закона равномерной плотности:'\n",
    "     f'\\nКоличество испытаний для каждого закона =', n,\n",
    "     f'\\nP_норм =', P_n,\n",
    "     f'\\n\\nВерхняя граница доверительного интервала при нормальном законе распределения =', P1_n,\n",
    "     f'\\nНижняя граница доверительного интервала при нормальном законе распределения =', P2_n,\n",
    "     f'\\nПогрешность определения ВБР при нормальном законе распределения =', delta1_n,\n",
    "     f'\\n\\nP_р.п =', P_un,\n",
    "     f'\\n\\nВерхняя граница доверительного интервала при з.р.п =', P1_un,\n",
    "     f'\\nНижняя граница доверительного интервала при з.р.п =', P2_un,\n",
    "     f'\\nПогрешность определения ВБР при з.р.п =', delta1_un)"
   ]
  },
  {
   "cell_type": "code",
   "execution_count": null,
   "id": "3ce7ade1-809f-449e-8026-ad23d7783283",
   "metadata": {},
   "outputs": [],
   "source": []
  }
 ],
 "metadata": {
  "kernelspec": {
   "display_name": "Python 3 (ipykernel)",
   "language": "python",
   "name": "python3"
  },
  "language_info": {
   "codemirror_mode": {
    "name": "ipython",
    "version": 3
   },
   "file_extension": ".py",
   "mimetype": "text/x-python",
   "name": "python",
   "nbconvert_exporter": "python",
   "pygments_lexer": "ipython3",
   "version": "3.9.7"
  }
 },
 "nbformat": 4,
 "nbformat_minor": 5
}
