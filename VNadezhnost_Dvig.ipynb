{
 "cells": [
  {
   "cell_type": "code",
   "execution_count": 4,
   "id": "15931cc3-5b10-4890-89ce-73d2be57c6ad",
   "metadata": {},
   "outputs": [],
   "source": [
    "import math\n",
    "import numpy as np\n",
    "import pandas as pd\n",
    "import matplotlib.pyplot as plt\n",
    "import scipy"
   ]
  },
  {
   "cell_type": "code",
   "execution_count": 23,
   "id": "17941310-0952-4438-be3b-1d792cb1b8dc",
   "metadata": {},
   "outputs": [],
   "source": [
    "Mu = 3.981*10**14\n",
    "R_o = 6571000\n",
    "R_r = 35780000 + 6371000\n",
    "M = 22500\n",
    "V_x = 4780.259\n",
    "I_ud = 3260\n",
    "P = 19620\n",
    "\n",
    "\n",
    "\n",
    "\n",
    "sigma = 0.003"
   ]
  },
  {
   "cell_type": "code",
   "execution_count": 24,
   "id": "e1c925c2-6df9-4d69-9985-2428a5507432",
   "metadata": {},
   "outputs": [],
   "source": [
    "R_o_n = np.random.normal(R_o, sigma*R_o, 100000)\n",
    "R_r_n = np.random.normal(R_r, sigma*R_r, 100000)\n",
    "M_n = np.random.normal(M, sigma*M, 100000)\n",
    "V_x_n = np.random.normal(V_x, sigma*V_x, 100000)\n",
    "I_ud_n = np.random.normal(I_ud, sigma*I_ud, 100000)\n",
    "P_n = np.random.normal(P, sigma*P, 100000)"
   ]
  },
  {
   "cell_type": "code",
   "execution_count": 28,
   "id": "f286e459-e4e3-414a-89f8-a0539a8ef230",
   "metadata": {},
   "outputs": [],
   "source": [
    "Mt = M*(1-np.exp(-V_x/I_ud))\n",
    "\n",
    "Mt_n = M_n*(1-np.exp(-V_x_n/I_ud))\n",
    "Mt_z = P_n/I_ud_n"
   ]
  },
  {
   "cell_type": "code",
   "execution_count": null,
   "id": "f2cad23b-d145-4c12-8aac-e3ea826c4961",
   "metadata": {},
   "outputs": [],
   "source": [
    "a_k = np.sqrt(k)*(2/(k + 1))**((k + 1)/2*(k - 1))\n",
    "\n",
    "U_a = np.sqrt(2k/(k - 1)*(R_g*T0)*(1-1/E_c)**((k - 1)/k))\n",
    "\n",
    "n_c = (np.sqrt((k-1)/(k+1)*(2/(k+1))**(1/(k-1)))/np.sqrt((1/E_c)**2/k-(1/E_c)**((k+1)/k))\n",
    "\n",
    "I_ud = U_a + np.sqrt(R_g*T0)/a_k * n_c * (1/E_c - p_n/p_0)\n",
    "\n"
   ]
  },
  {
   "cell_type": "code",
   "execution_count": null,
   "id": "bce1a569-e2d6-4e62-8c77-9a4fe39fa7da",
   "metadata": {},
   "outputs": [],
   "source": []
  },
  {
   "cell_type": "code",
   "execution_count": null,
   "id": "0fb4c724-4e73-4330-9546-2dde01ae8cf5",
   "metadata": {},
   "outputs": [],
   "source": []
  },
  {
   "cell_type": "code",
   "execution_count": 29,
   "id": "346c0c7a-d531-4c99-ba82-9205c0c45fe0",
   "metadata": {},
   "outputs": [
    {
     "data": {
      "text/plain": [
       "0.0"
      ]
     },
     "execution_count": 29,
     "metadata": {},
     "output_type": "execute_result"
    }
   ],
   "source": [
    "(Mt_z>=Mt).mean()"
   ]
  },
  {
   "cell_type": "code",
   "execution_count": 30,
   "id": "2830190d-f72a-4099-8d96-7b8c9d77a63c",
   "metadata": {},
   "outputs": [
    {
     "data": {
      "text/plain": [
       "array([5.98393368, 6.00530833, 6.04100349, ..., 6.00037633, 6.05117867,\n",
       "       5.99784422])"
      ]
     },
     "execution_count": 30,
     "metadata": {},
     "output_type": "execute_result"
    }
   ],
   "source": [
    "Mt_z"
   ]
  },
  {
   "cell_type": "code",
   "execution_count": 31,
   "id": "57870d20-bba8-4b26-902e-2ae2ad75152f",
   "metadata": {},
   "outputs": [
    {
     "data": {
      "text/plain": [
       "17307.692555733982"
      ]
     },
     "execution_count": 31,
     "metadata": {},
     "output_type": "execute_result"
    }
   ],
   "source": [
    "Mt"
   ]
  },
  {
   "cell_type": "code",
   "execution_count": 32,
   "id": "a0bfa357-06b8-4885-91ed-220e37cd243b",
   "metadata": {},
   "outputs": [
    {
     "data": {
      "text/plain": [
       "array([17318.65327946, 17338.42842305, 17297.09026076, ...,\n",
       "       17307.03388616, 17325.59207339, 17201.72834564])"
      ]
     },
     "execution_count": 32,
     "metadata": {},
     "output_type": "execute_result"
    }
   ],
   "source": [
    "Mt_n"
   ]
  },
  {
   "cell_type": "code",
   "execution_count": null,
   "id": "d2151830-cf16-4f9b-8951-0422c794926e",
   "metadata": {},
   "outputs": [],
   "source": []
  }
 ],
 "metadata": {
  "kernelspec": {
   "display_name": "Python 3 (ipykernel)",
   "language": "python",
   "name": "python3"
  },
  "language_info": {
   "codemirror_mode": {
    "name": "ipython",
    "version": 3
   },
   "file_extension": ".py",
   "mimetype": "text/x-python",
   "name": "python",
   "nbconvert_exporter": "python",
   "pygments_lexer": "ipython3",
   "version": "3.9.7"
  }
 },
 "nbformat": 4,
 "nbformat_minor": 5
}
