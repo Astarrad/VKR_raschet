{
 "cells": [
  {
   "cell_type": "code",
   "execution_count": 1,
   "id": "15931cc3-5b10-4890-89ce-73d2be57c6ad",
   "metadata": {},
   "outputs": [],
   "source": [
    "import math\n",
    "import numpy as np\n",
    "import pandas as pd\n",
    "import matplotlib.pyplot as plt\n",
    "import scipy"
   ]
  },
  {
   "cell_type": "code",
   "execution_count": 178,
   "id": "17941310-0952-4438-be3b-1d792cb1b8dc",
   "metadata": {},
   "outputs": [],
   "source": [
    "Mu = 3.981*10**14\n",
    "R_o = 6571000\n",
    "R_r = 35780000 + 6371000\n",
    "i1 = 3*np.pi/180\n",
    "i2 = 48.6*np.pi/180\n",
    "\n",
    "M_0 = 22500\n",
    "\n",
    "I_ud = 3200\n",
    "P = 19600\n",
    "t_r = 3000\n",
    "\n",
    "I_ud2 = 3020 + 2740 + 3200\n",
    "I_p1 = 17400*3280+3924000+2394000 \n",
    "\n",
    "V_h_pot = 405+30\n",
    "\n",
    "I_p2 = 1.071*10**8 ##Через тягу\n",
    "\n",
    "sigma = 0.003\n",
    "\n",
    "I_ud11 = 3200\n",
    "I_ud22 = 3020\n",
    "I_ud33 = 2740\n",
    "I_p11 = 62720000\n",
    "I_p22 = 3924000*4\n",
    "I_p33 = 2394000*12"
   ]
  },
  {
   "cell_type": "code",
   "execution_count": 179,
   "id": "e3f50d67-7399-41f4-b1ab-cf10472859be",
   "metadata": {},
   "outputs": [
    {
     "data": {
      "text/plain": [
       "5280.168501664831"
      ]
     },
     "execution_count": 179,
     "metadata": {},
     "output_type": "execute_result"
    }
   ],
   "source": [
    "V_p = np.sqrt(Mu/R_o)*np.sqrt(1-2*np.sqrt(2*R_r/(R_r+R_o))*np.cos(i1)+2*R_r/(R_r+R_o))\n",
    "\n",
    "V_a = np.sqrt(Mu/R_r)*np.sqrt(1-2*np.sqrt(2*R_o/(R_r+R_o))*np.cos(i2)+2*R_o/(R_r+R_o))\n",
    "\n",
    "V_x = V_p + V_a + V_h_pot\n",
    "V_x"
   ]
  },
  {
   "cell_type": "code",
   "execution_count": 192,
   "id": "e1c925c2-6df9-4d69-9985-2428a5507432",
   "metadata": {},
   "outputs": [],
   "source": [
    "R_o_n = np.random.normal(R_o, sigma*R_o, 100000)\n",
    "R_r_n = np.random.normal(R_r, sigma*R_r, 100000)\n",
    "M_n = np.random.normal(M_0, sigma*M_0, 100000)\n",
    "# V_x_n = np.random.normal(V_x, sigma*V_x, 100000)\n",
    "I_ud_n = np.random.normal(I_ud, sigma*I_ud, 100000)\n",
    "P_n = np.random.normal(P, sigma*P, 100000)\n",
    "i = 51.6*np.pi/180\n",
    "i_n = np.random.normal(i, sigma*i, 100000)\n",
    "V_h_pot_n = np.random.normal(V_h_pot, sigma*V_h_pot, 100000)"
   ]
  },
  {
   "cell_type": "code",
   "execution_count": 211,
   "id": "e138db03-24dd-4099-a852-7b8c1f1fbd3e",
   "metadata": {},
   "outputs": [
    {
     "data": {
      "text/plain": [
       "5385.778437587298"
      ]
     },
     "execution_count": 211,
     "metadata": {},
     "output_type": "execute_result"
    }
   ],
   "source": [
    "V_p_n = np.sqrt(Mu/R_o_n)*np.sqrt(1-2*np.sqrt(2*R_r_n/(R_r_n+R_o_n))*np.cos(i1)+2*R_r_n/(R_r_n+R_o_n))\n",
    "\n",
    "V_a_n = np.sqrt(Mu/R_r_n)*np.sqrt(1-2*np.sqrt(2*R_o_n/(R_r_n+R_o_n))*np.cos(i_n-i1)+2*R_o_n/(R_r_n+R_o_n))\n",
    "\n",
    "V_x_n = (V_p_n + V_a_n + V_h_pot_n)*1.02\n",
    "V_x_n.mean()\n"
   ]
  },
  {
   "cell_type": "code",
   "execution_count": 212,
   "id": "f286e459-e4e3-414a-89f8-a0539a8ef230",
   "metadata": {},
   "outputs": [
    {
     "data": {
      "text/plain": [
       "0.99027"
      ]
     },
     "execution_count": 212,
     "metadata": {},
     "output_type": "execute_result"
    }
   ],
   "source": [
    "Mt_1 = M_0*(1-np.exp(-V_x/I_ud))\n",
    "I_p = P*t_r\n",
    "Mt_2 = I_p/I_ud\n",
    "\n",
    "\n",
    "Mt_n = M_n*(1-np.exp(-V_x_n/I_ud_n))\n",
    "\n",
    "Mt_1, Mt_2\n",
    "(Mt_n>=Mt_1).mean()"
   ]
  },
  {
   "cell_type": "code",
   "execution_count": 135,
   "id": "f2cad23b-d145-4c12-8aac-e3ea826c4961",
   "metadata": {},
   "outputs": [],
   "source": [
    "# a_k = np.sqrt(k)*(2/(k + 1))**((k + 1)/2*(k - 1))\n",
    "\n",
    "# U_a = np.sqrt(2*k/(k - 1)*(R_g*T0)*(1-1/E_c)**((k - 1)/k))\n",
    "\n",
    "# n_c = (np.sqrt((k-1)/(k+1)*(2/(k+1))**(1/(k-1)))/np.sqrt((1/E_c)**2/k-(1/E_c)**((k+1)/k))\n",
    "\n",
    "# I_ud = U_a + np.sqrt(R_g*T0)/a_k * n_c * (1/E_c - p_n/p_0)\n",
    "\n"
   ]
  },
  {
   "cell_type": "code",
   "execution_count": null,
   "id": "7406a912-1448-49f7-b721-411eca66393d",
   "metadata": {},
   "outputs": [],
   "source": []
  }
 ],
 "metadata": {
  "kernelspec": {
   "display_name": "Python 3 (ipykernel)",
   "language": "python",
   "name": "python3"
  },
  "language_info": {
   "codemirror_mode": {
    "name": "ipython",
    "version": 3
   },
   "file_extension": ".py",
   "mimetype": "text/x-python",
   "name": "python",
   "nbconvert_exporter": "python",
   "pygments_lexer": "ipython3",
   "version": "3.9.7"
  }
 },
 "nbformat": 4,
 "nbformat_minor": 5
}
