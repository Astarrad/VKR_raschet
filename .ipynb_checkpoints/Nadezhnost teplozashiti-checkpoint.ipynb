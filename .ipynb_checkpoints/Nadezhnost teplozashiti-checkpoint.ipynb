{
 "cells": [
  {
   "cell_type": "code",
   "execution_count": 11,
   "id": "d9f4acf9-56b8-49d7-b7ad-b3ddac98f232",
   "metadata": {},
   "outputs": [],
   "source": [
    "import math\n",
    "import numpy as np\n",
    "import pandas as pd\n",
    "import matplotlib.pyplot as plt\n",
    "from scipy import stats"
   ]
  },
  {
   "cell_type": "code",
   "execution_count": 17,
   "id": "89462cc0-5d33-4819-9e2e-4cf6cca3b46a",
   "metadata": {},
   "outputs": [],
   "source": [
    "# Дано:\n",
    "\n",
    "Q_izl_treb = 3326025.3230648716 # Требуемое количество излучаемого тепла с радиатора\n",
    "eps = 0.88 # Степень черноты материала радиатора\n",
    "sig = 5.67*10**-8 # Постоянная Стефана-Больцмана\n",
    "T = 800 # К - Температура радиатора\n",
    "delta = 0.009425235965461689 # Толщина радиатора\n",
    "ro_izl = 8920 # кг/м3 - Плотность материала радиатора (медь)\n",
    "G_izl = 13682.232265432767 # кг - Масса радиатора\n",
    "\n",
    "A = 1.025 # Коэффициент запаса\n",
    "\n",
    "k = 0.003 # Коэффициент вариации\n",
    "n = 10000 # Заданное количество реализаций случайной величины\n",
    "gamma = 0.997"
   ]
  },
  {
   "cell_type": "code",
   "execution_count": 18,
   "id": "4f93479a-5538-44f4-8540-c6237cc4e973",
   "metadata": {},
   "outputs": [],
   "source": [
    "# Генерация случайных величин распределенных по нормальному закону\n",
    "\n",
    "ro_izl_n = np.random.normal(ro_izl, k*ro_izl, n)\n",
    "# sig_n = np.random.normal(sig, k*sig, n)\n",
    "T_n = np.random.normal(T, k*T, n)\n",
    "delta_n = np.random.normal(delta, k*delta, n)\n",
    "G_izl_n = np.random.normal(G_izl, k*G_izl, n)\n",
    "eps_n = np.random.normal(eps, k*eps, n)\n",
    "\n",
    "Q_izl_treb_n = np.random.normal(Q_izl_treb, k*Q_izl_treb, n)"
   ]
  },
  {
   "cell_type": "code",
   "execution_count": 19,
   "id": "b5696e9d-0324-422c-a484-00ab99074ebe",
   "metadata": {},
   "outputs": [
    {
     "name": "stdout",
     "output_type": "stream",
     "text": [
      "8919.923848507875 800.0107247406077 0.009424892182796739 13682.822646768414 0.8754273858680184 3326096.6765223006\n",
      "8919.512265548736 799.9866271370894 0.009425389281363486 13681.279203187934 0.8800381526121226 3325989.5370089514\n"
     ]
    }
   ],
   "source": [
    "# Генерация случайных величин распределенных по закону равномерной плотности\n",
    "\n",
    "A_ro_izl = ro_izl-np.sqrt(3)*ro_izl*k\n",
    "B_ro_izl = ro_izl+np.sqrt(3)*ro_izl*k\n",
    "ro_izl_un=np.random.uniform(A_ro_izl, B_ro_izl, n)\n",
    "\n",
    "# A_sig = sig-np.sqrt(3)*sig*k\n",
    "# B_sig = sig+np.sqrt(3)*sig*k\n",
    "# sig_un=np.random.uniform(A_sig, B_sig, n)\n",
    "\n",
    "A_T = T-np.sqrt(3)*T*k\n",
    "B_T = T+np.sqrt(3)*T*k\n",
    "T_un=np.random.uniform(A_T, B_T, n)\n",
    "\n",
    "A_delta = delta-np.sqrt(3)*delta*k\n",
    "B_delta = delta+np.sqrt(3)*delta*k\n",
    "delta_un=np.random.uniform(A_delta, B_delta, n)\n",
    "\n",
    "A_G_izl = G_izl-np.sqrt(3)*G_izl*k\n",
    "B_G_izl = G_izl+np.sqrt(3)*G_izl*k\n",
    "G_izl_un=np.random.uniform(A_G_izl, B_G_izl, n)\n",
    "\n",
    "A_eps = eps-np.sqrt(3)*eps*k\n",
    "B_eps = eps+np.sqrt(3)*eps*k\n",
    "eps_un=np.random.uniform(A_eps, A_eps, n)\n",
    "\n",
    "A_Q_izl_treb = Q_izl_treb-np.sqrt(3)*Q_izl_treb*k\n",
    "B_Q_izl_treb = Q_izl_treb+np.sqrt(3)*Q_izl_treb*k\n",
    "Q_izl_treb_un=np.random.uniform(A_Q_izl_treb, B_Q_izl_treb, n)\n",
    "\n",
    "print(ro_izl_un.mean(),  T_un.mean(), delta_un.mean(), G_izl_un.mean(), eps_un.mean(), Q_izl_treb_un.mean())\n",
    "print(ro_izl_n.mean(), T_n.mean(), delta_n.mean(), G_izl_n.mean(), eps_n.mean(), Q_izl_treb_n.mean())"
   ]
  },
  {
   "cell_type": "code",
   "execution_count": 20,
   "id": "03dda3d2-7cc0-4bef-ba35-67e6b6c40445",
   "metadata": {},
   "outputs": [
    {
     "name": "stdout",
     "output_type": "stream",
     "text": [
      "P_n = 0.9666 P_un = 0.9268\n"
     ]
    }
   ],
   "source": [
    "\n",
    "\n",
    "# Q_izl_treb = (G_izl/(delta*ro_izl))*eps*sig*T**4\n",
    "\n",
    "Q_izl_i_norm = (G_izl_n/(delta_n*ro_izl_n))*A*eps_n*sig*T_n**4\n",
    "Q_izl_i_un = (G_izl_un/(delta_un*ro_izl_un))*A*eps_un*sig*T_un**4\n",
    "\n",
    "P_n = (Q_izl_i_norm>=Q_izl_treb_n).mean()\n",
    "tgamma_n = stats.norm.ppf((1+gamma)/2,0,1)\n",
    "delta1_n = tgamma_n*np.sqrt((1-P_n)/(P_n*n))\n",
    "P1_n = P_n+tgamma_n*np.sqrt(P_n*(1-P_n)/n)\n",
    "P2_n = P_n-tgamma_n*np.sqrt(P_n*(1-P_n)/n)\n",
    "\n",
    "P_un = (Q_izl_i_un>=Q_izl_treb_un).mean()\n",
    "tgamma_un = stats.uniform.ppf((1+gamma)/2,0,1)\n",
    "delta1_un = tgamma_un*np.sqrt((1-P_un)/(P_un*n))\n",
    "P1_un = P_un+tgamma_un*np.sqrt(P_un*(1-P_un)/n)\n",
    "P2_un = P_un-tgamma_un*np.sqrt(P_un*(1-P_un)/n)\n",
    "\n",
    "print(f'P_n =', P_n,\n",
    "      f'P_un =', P_un)"
   ]
  },
  {
   "cell_type": "code",
   "execution_count": 22,
   "id": "da23e56d-63a5-47b3-850a-7d10f15f0019",
   "metadata": {},
   "outputs": [
    {
     "name": "stdout",
     "output_type": "stream",
     "text": [
      "Результаты метода статистических испытаний для нормального закона распределения и закона равномерной плотности:\n",
      "Количество испытаний для каждого закона = 10000 \n",
      "P_норм = 0.9666 \n",
      "\n",
      "Верхняя граница доверительного интервала при нормальном законе распределения = 0.9719323933172848 \n",
      "Нижняя граница доверительного интервала при нормальном законе распределения = 0.9612676066827153 \n",
      "Погрешность определения ВБР при нормальном законе распределения = 0.0055166494074950865 \n",
      "\n",
      "P_р.п = 0.9268 \n",
      "\n",
      "Верхняя граница доверительного интервала при з.р.п = 0.9294007381137661 \n",
      "Нижняя граница доверительного интервала при з.р.п = 0.9241992618862338 \n",
      "Погрешность определения ВБР при з.р.п = 0.00280614815900536\n"
     ]
    }
   ],
   "source": [
    "print('Результаты метода статистических испытаний для нормального закона распределения и закона равномерной плотности:'\n",
    "     f'\\nКоличество испытаний для каждого закона =', n,\n",
    "     f'\\nP_норм =', P_n,\n",
    "     f'\\n\\nВерхняя граница доверительного интервала при нормальном законе распределения =', P1_n,\n",
    "     f'\\nНижняя граница доверительного интервала при нормальном законе распределения =', P2_n,\n",
    "     f'\\nПогрешность определения ВБР при нормальном законе распределения =', delta1_n,\n",
    "     f'\\n\\nP_р.п =', P_un,\n",
    "     f'\\n\\nВерхняя граница доверительного интервала при з.р.п =', P1_un,\n",
    "     f'\\nНижняя граница доверительного интервала при з.р.п =', P2_un,\n",
    "     f'\\nПогрешность определения ВБР при з.р.п =', delta1_un)"
   ]
  },
  {
   "cell_type": "code",
   "execution_count": null,
   "id": "8665b67f-3030-41fc-a563-23aff54faee6",
   "metadata": {},
   "outputs": [],
   "source": []
  }
 ],
 "metadata": {
  "kernelspec": {
   "display_name": "Python 3 (ipykernel)",
   "language": "python",
   "name": "python3"
  },
  "language_info": {
   "codemirror_mode": {
    "name": "ipython",
    "version": 3
   },
   "file_extension": ".py",
   "mimetype": "text/x-python",
   "name": "python",
   "nbconvert_exporter": "python",
   "pygments_lexer": "ipython3",
   "version": "3.9.7"
  }
 },
 "nbformat": 4,
 "nbformat_minor": 5
}
