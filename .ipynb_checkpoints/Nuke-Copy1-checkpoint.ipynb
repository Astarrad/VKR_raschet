{
 "cells": [
  {
   "cell_type": "markdown",
   "id": "507b617d-eb8e-428f-b10e-6b3bcbd11575",
   "metadata": {
    "jp-MarkdownHeadingCollapsed": true,
    "tags": []
   },
   "source": [
    "##### Импорт библиотек"
   ]
  },
  {
   "cell_type": "code",
   "execution_count": 1,
   "id": "f3e73936-5c5d-4db1-9eec-a8e17eadbfb2",
   "metadata": {},
   "outputs": [],
   "source": [
    "%matplotlib inline\n",
    "\n",
    "import warnings\n",
    "warnings.filterwarnings('ignore')\n",
    "import math\n",
    "import numpy as np\n",
    "import pandas as pd\n",
    "import matplotlib.pyplot as plt\n",
    "import scipy\n",
    "import seaborn as sns\n",
    "plt.rcParams[\"figure.figsize\"]=8,6"
   ]
  },
  {
   "cell_type": "markdown",
   "id": "eb372442-ef4b-42f1-807f-5787faed29bb",
   "metadata": {
    "tags": []
   },
   "source": [
    "#### «Балтийский государственный технический университет «ВОЕНМЕХ» им. Д.Ф. Устинова» \n",
    "\n",
    "Студент группы А361\n",
    "\n",
    "Добряков Н.И."
   ]
  },
  {
   "cell_type": "markdown",
   "id": "328fa769",
   "metadata": {
    "tags": []
   },
   "source": [
    "## Приближенный расчет параметров ядерной энергетической установки с встроенным в активную зону термоэмиссионным преобразователем одноэлементной конструкции"
   ]
  },
  {
   "cell_type": "markdown",
   "id": "5dce38c0",
   "metadata": {
    "tags": []
   },
   "source": [
    "### Исходные данные:"
   ]
  },
  {
   "cell_type": "code",
   "execution_count": 2,
   "id": "01c4dc03",
   "metadata": {},
   "outputs": [],
   "source": [
    "P_el = 9*10**3 # Вт - требуемая электрическая мощность ЯЭУ\n",
    "t = 7            # лет - требуемый ресурс работы ЯЭУ\n",
    "P = 90           # надежность работы холодильника-излучателя (принимает значение 90 или 99)\n",
    "d_k = 0.02       # м - диаметр ЭГК\n",
    "L_k = 0.25       # м - длина ЭГК\n",
    "\n",
    "B = 5            # дозовый фактор ослабления\n",
    "\n",
    "delta = 0.06     # м - толщина отражателя\n",
    "d_z = 0.002      # м - толщина алюминиевого корпуса защиты\n",
    "\n",
    "ro_t = 19050     # кг/м^3 - плотность диоксида урана\n",
    "ro_z = 5600      # кг/м^3 - плотность гидрида церкония\n",
    "ro_otr = 1950    # кг/м^3 - плотность бериллия\n",
    "ro_izl = 8920    # кг/м^3 - плотность меди\n",
    "ro_lih = 2900    # кг/м^3 - плотность гидрида лития\n",
    "ro_pb = 11340    # кг/м^3 - плотность свинца\n",
    "ro_al = 2800     # кг/м^3 - плотность алюминия"
   ]
  },
  {
   "cell_type": "markdown",
   "id": "e1a63ed9",
   "metadata": {
    "jp-MarkdownHeadingCollapsed": true,
    "tags": []
   },
   "source": [
    "#### Для быстрого перехода к выводу программы используется ссылка: [итоговые данные](#Итоговые-данные:)"
   ]
  },
  {
   "cell_type": "markdown",
   "id": "a0dbe48a",
   "metadata": {
    "tags": []
   },
   "source": [
    "### Расчет:"
   ]
  },
  {
   "cell_type": "markdown",
   "id": "b905ac83",
   "metadata": {},
   "source": [
    "Суммарная поверхность энерговыделяющих катодов $ S_к, см^2,$ определяется по электрической мощности ЯЭУ $P_{эл}, Вт: $"
   ]
  },
  {
   "cell_type": "markdown",
   "id": "03016e17",
   "metadata": {},
   "source": [
    "Для выбора $P_{эл}$ и $P_{уд}$ используются эмпирические данные, из соотношений отображенных в графиках. Для определения значений этих параметров за пределами графиков следует пролонгировать исходные соотношения методами эктраполяции:"
   ]
  },
  {
   "cell_type": "code",
   "execution_count": 3,
   "id": "a2dfcbce",
   "metadata": {},
   "outputs": [],
   "source": [
    "# Линейная функция зависимости температуры катода от времени ресурса работы ЯЭУ\n",
    "t_i = np.arange(1,11,1)\n",
    "k = -125\n",
    "b = 2150\n",
    "def T_k(z):\n",
    "    return k*z+b"
   ]
  },
  {
   "cell_type": "markdown",
   "id": "670bbae8",
   "metadata": {},
   "source": [
    "Отрисуем график зависимости ресурса работы ядерной энергетической установки от температуры катода, и отыщем температуру для искомого ресурса - $T_k(7)$:"
   ]
  },
  {
   "cell_type": "code",
   "execution_count": 4,
   "id": "07a609e9",
   "metadata": {},
   "outputs": [
    {
     "name": "stdout",
     "output_type": "stream",
     "text": [
      "T_k(7) = 1275\n"
     ]
    },
    {
     "data": {
      "image/png": "[encoded data removed]",
      "text/plain": [
       "<Figure size 576x432 with 1 Axes>"
      ]
     },
     "metadata": {
      "needs_background": "light"
     },
     "output_type": "display_data"
    }
   ],
   "source": [
    "lplot = sns.lineplot(T_k(t_i), t_i)\n",
    "\n",
    "lplot.set_title('Зависимость ресурса работы ядерной энергетической установки от температуры катода')\n",
    "lplot.set_xlabel('T_k, К')\n",
    "lplot.set_ylabel('Ресурс работы ЯЭУ, лет')\n",
    "T_k = T_k(t)\n",
    "print(f'T_k({t}) =',T_k)\n"
   ]
  },
  {
   "cell_type": "markdown",
   "id": "db2b16f6",
   "metadata": {},
   "source": [
    "Далее требуется экстраполировать график зависимости удельного энергосъёма от температуры катода."
   ]
  },
  {
   "cell_type": "code",
   "execution_count": 51,
   "id": "5c0366bf",
   "metadata": {},
   "outputs": [],
   "source": [
    "# Данные точек из исходного графика.\n",
    "points = np.arange(1500, 2050, 50, dtype=float)\n",
    "P_ud_i = np.array([2.08,2.117647,2.195294,2.411764,2.705882,3,3.235294,3.823529,4.294117,4.647058,5.1])\n",
    "n = points.size"
   ]
  },
  {
   "cell_type": "code",
   "execution_count": 52,
   "id": "24da8d8c",
   "metadata": {},
   "outputs": [],
   "source": [
    "# Аппроксимирующая функция.\n",
    "def func_Pud(x, a, b, c):\n",
    "    return a+(b)**x*c\n",
    "popt, pcov = scipy.optimize.curve_fit(func_Pud, points[:-1], P_ud_i[:-1])"
   ]
  },
  {
   "cell_type": "code",
   "execution_count": 53,
   "id": "a5fdca03",
   "metadata": {},
   "outputs": [
    {
     "name": "stdout",
     "output_type": "stream",
     "text": [
      "P_уд(1275) = 1.5881580772310824\n"
     ]
    },
    {
     "data": {
      "image/png": "[encoded data removed]",
      "text/plain": [
       "<Figure size 576x432 with 1 Axes>"
      ]
     },
     "metadata": {
      "needs_background": "light"
     },
     "output_type": "display_data"
    }
   ],
   "source": [
    "# Построим графики: исходный и аппроксимацию требуемого диапазона значений.\n",
    "Pud_Tk = sns.lineplot(points, P_ud_i, label='Исходный график', sizes=[1000,2000])\n",
    "Pud_Tk = sns.lineplot(points, func_Pud(points, *popt), label='Аппроксимированный график', sizes=[1000,2000])\n",
    "Pud_Tk.set_title('Зависимость удельного энергосъема от температуры катода')\n",
    "Pud_Tk.set_xlabel('T_к, К')\n",
    "Pud_Tk.set_ylabel('P_уд, Вт/см^2')\n",
    "\n",
    "# Отыскание P_уд в искомой точке.\n",
    "P_ud = func_Pud(T_k, *popt)\n",
    "print(f'P_уд({T_k}) =', P_ud)\n"
   ]
  },
  {
   "cell_type": "markdown",
   "id": "19b1534c",
   "metadata": {},
   "source": [
    "Суммарная поверхность энерговыделяющих катодов."
   ]
  },
  {
   "cell_type": "code",
   "execution_count": 54,
   "id": "0c2da840",
   "metadata": {},
   "outputs": [
    {
     "data": {
      "text/plain": [
       "0.6800330618743919"
      ]
     },
     "execution_count": 54,
     "metadata": {},
     "output_type": "execute_result"
    }
   ],
   "source": [
    "S_k = (1.2 * P_el)/(P_ud*10000)\n",
    "S_k"
   ]
  },
  {
   "cell_type": "markdown",
   "id": "1bab0622",
   "metadata": {},
   "source": [
    "Далее необходимо экстраполировать график зависимости КПД ЯЭУ от температуры катода. График имеет форму близкую к прямой, поэтому было принято экстраполировать его линейной функцией."
   ]
  },
  {
   "cell_type": "code",
   "execution_count": 55,
   "id": "0bad6304",
   "metadata": {},
   "outputs": [],
   "source": [
    "# Исходный набор данных для оси ординат.\n",
    "Eta_i = np.array([0.057, 0.067, 0.076, 0.08, 0.088, 0.095, 0.1, 0.105, 0.11, 0.115, 0.118])"
   ]
  },
  {
   "cell_type": "code",
   "execution_count": 58,
   "id": "f538ab2d",
   "metadata": {},
   "outputs": [
    {
     "name": "stdout",
     "output_type": "stream",
     "text": [
      "Eta_lin(1275) = 0.0348227272727273\n"
     ]
    },
    {
     "data": {
      "image/png": "[encoded data removed]",
      "text/plain": [
       "<Figure size 576x432 with 1 Axes>"
      ]
     },
     "metadata": {
      "needs_background": "light"
     },
     "output_type": "display_data"
    }
   ],
   "source": [
    "# Экстраполяция с помощью линейной функциии.\n",
    "res2 = scipy.stats.linregress(points[:], Eta_i[:])\n",
    "Eta_Tk = sns.lineplot(points, Eta_i, label='Исходный график')\n",
    "Eta_Tk = sns.lineplot(points, res2.intercept + res2.slope*points, label='Линейная экстраполяция')\n",
    "Eta_Tk.set_title('Зависимость КПД установки от температуры катода')\n",
    "Eta_Tk.set_xlabel('Т_к, К')\n",
    "Eta_Tk.set_ylabel('КПД')\n",
    "Eta_lin = res2.intercept + res2.slope*T_k\n",
    "\n",
    "print(f'Eta_lin({T_k}) =', Eta_lin)"
   ]
  },
  {
   "cell_type": "markdown",
   "id": "3e720b70",
   "metadata": {},
   "source": [
    "Эмиссионная поверхность катода."
   ]
  },
  {
   "cell_type": "code",
   "execution_count": 11,
   "id": "99d3a1ee",
   "metadata": {},
   "outputs": [
    {
     "data": {
      "text/plain": [
       "0.015707963267948967"
      ]
     },
     "execution_count": 11,
     "metadata": {},
     "output_type": "execute_result"
    }
   ],
   "source": [
    "S_egk = np.pi * d_k * L_k\n",
    "S_egk"
   ]
  },
  {
   "cell_type": "markdown",
   "id": "b35afd95",
   "metadata": {},
   "source": [
    "Число каналов ЭГК."
   ]
  },
  {
   "cell_type": "code",
   "execution_count": 12,
   "id": "5eb66165",
   "metadata": {},
   "outputs": [
    {
     "data": {
      "text/plain": [
       "44"
      ]
     },
     "execution_count": 12,
     "metadata": {},
     "output_type": "execute_result"
    }
   ],
   "source": [
    "N_k = S_k / S_egk\n",
    "N_k = math.ceil(N_k)\n",
    "N_k"
   ]
  },
  {
   "cell_type": "markdown",
   "id": "76d03b6b",
   "metadata": {},
   "source": [
    "Относительный шаг решетки и значение пористости активной зоны."
   ]
  },
  {
   "cell_type": "code",
   "execution_count": 13,
   "id": "82cdc4a9",
   "metadata": {},
   "outputs": [
    {
     "data": {
      "text/plain": [
       "2.0"
      ]
     },
     "execution_count": 13,
     "metadata": {},
     "output_type": "execute_result"
    }
   ],
   "source": [
    "PSI = 40/20\n",
    "PSI"
   ]
  },
  {
   "cell_type": "code",
   "execution_count": 14,
   "id": "a52bb017",
   "metadata": {},
   "outputs": [
    {
     "data": {
      "text/plain": [
       "0.7732750794707228"
      ]
     },
     "execution_count": 14,
     "metadata": {},
     "output_type": "execute_result"
    }
   ],
   "source": [
    "KSI = 1-np.pi/(2*3**(1/2)*PSI**2)\n",
    "KSI"
   ]
  },
  {
   "cell_type": "markdown",
   "id": "9501cf9c",
   "metadata": {},
   "source": [
    "Диаметр активной зоны."
   ]
  },
  {
   "cell_type": "code",
   "execution_count": 15,
   "id": "afdf3ca5",
   "metadata": {},
   "outputs": [
    {
     "data": {
      "text/plain": [
       "0.27861641817270627"
      ]
     },
     "execution_count": 15,
     "metadata": {},
     "output_type": "execute_result"
    }
   ],
   "source": [
    "D_a = np.sqrt((d_k**2*N_k)/(1-KSI))\n",
    "D_a"
   ]
  },
  {
   "cell_type": "markdown",
   "id": "84fba49f",
   "metadata": {},
   "source": [
    "Объём активной зоны."
   ]
  },
  {
   "cell_type": "code",
   "execution_count": 16,
   "id": "e4245aee",
   "metadata": {},
   "outputs": [
    {
     "data": {
      "text/plain": [
       "0.015242047106606121"
      ]
     },
     "execution_count": 16,
     "metadata": {},
     "output_type": "execute_result"
    }
   ],
   "source": [
    "V_a = np.pi*D_a**2*L_k/4\n",
    "V_a"
   ]
  },
  {
   "cell_type": "markdown",
   "id": "168053cb",
   "metadata": {},
   "source": [
    "Длину активной зоны принимаем равной длине ЭГК."
   ]
  },
  {
   "cell_type": "code",
   "execution_count": 17,
   "id": "77443a1f",
   "metadata": {},
   "outputs": [],
   "source": [
    "L = L_k"
   ]
  },
  {
   "cell_type": "markdown",
   "id": "f741124e",
   "metadata": {},
   "source": [
    "Масса активной зоны. Масса топлива и масса замедлителя."
   ]
  },
  {
   "cell_type": "code",
   "execution_count": 18,
   "id": "6a81c751",
   "metadata": {},
   "outputs": [
    {
     "data": {
      "text/plain": [
       "65.8320740559741"
      ]
     },
     "execution_count": 18,
     "metadata": {},
     "output_type": "execute_result"
    }
   ],
   "source": [
    "G_t = N_k*np.pi*d_k**2*L*ro_t/4\n",
    "G_t"
   ]
  },
  {
   "cell_type": "code",
   "execution_count": 19,
   "id": "31056b7b",
   "metadata": {},
   "outputs": [
    {
     "data": {
      "text/plain": [
       "66.00325305088114"
      ]
     },
     "execution_count": 19,
     "metadata": {},
     "output_type": "execute_result"
    }
   ],
   "source": [
    "G_z = (np.pi*L/4)*(D_a**2-d_k**2*N_k)*ro_z\n",
    "G_z"
   ]
  },
  {
   "cell_type": "markdown",
   "id": "ac138cf8",
   "metadata": {},
   "source": [
    "Масса отражателя."
   ]
  },
  {
   "cell_type": "code",
   "execution_count": 20,
   "id": "9d0c0e81",
   "metadata": {},
   "outputs": [
    {
     "data": {
      "text/plain": [
       "60.31823522258037"
      ]
     },
     "execution_count": 20,
     "metadata": {},
     "output_type": "execute_result"
    }
   ],
   "source": [
    "G_otr = 2*np.pi*(D_a+2*delta)**2/4*delta*ro_otr + np.pi*(D_a+1*delta)*L*delta*ro_otr\n",
    "G_otr"
   ]
  },
  {
   "cell_type": "markdown",
   "id": "b76af69c",
   "metadata": {},
   "source": [
    "Диаметр реактора."
   ]
  },
  {
   "cell_type": "code",
   "execution_count": 21,
   "id": "1898b53c",
   "metadata": {},
   "outputs": [
    {
     "data": {
      "text/plain": [
       "0.39861641817270627"
      ]
     },
     "execution_count": 21,
     "metadata": {},
     "output_type": "execute_result"
    }
   ],
   "source": [
    "D_r = D_a + 2*delta\n",
    "D_r"
   ]
  },
  {
   "cell_type": "markdown",
   "id": "6b27470b",
   "metadata": {},
   "source": [
    "Масса реактора. Сумма масс топлива, замедлителя, отражателя."
   ]
  },
  {
   "cell_type": "code",
   "execution_count": 22,
   "id": "ef0714eb",
   "metadata": {},
   "outputs": [
    {
     "data": {
      "text/plain": [
       "192.1535623294356"
      ]
     },
     "execution_count": 22,
     "metadata": {},
     "output_type": "execute_result"
    }
   ],
   "source": [
    "G_r = G_t + G_z + G_otr\n",
    "G_r"
   ]
  },
  {
   "cell_type": "markdown",
   "id": "00dfe70a",
   "metadata": {},
   "source": [
    "Тепловая мощность установки, с учетом электрической мощности и КПД преобразования теплоты в электрическую энергию."
   ]
  },
  {
   "cell_type": "code",
   "execution_count": 59,
   "id": "ad7681cb",
   "metadata": {},
   "outputs": [
    {
     "data": {
      "text/plain": [
       "310142.27907583845"
      ]
     },
     "execution_count": 59,
     "metadata": {},
     "output_type": "execute_result"
    }
   ],
   "source": [
    "Q_t = (1.2 * P_el) / Eta_lin\n",
    "Q_t"
   ]
  },
  {
   "cell_type": "markdown",
   "id": "8d04e8a8",
   "metadata": {},
   "source": [
    "Количество теплоты сбрасываемой с излучателя."
   ]
  },
  {
   "cell_type": "code",
   "execution_count": 24,
   "id": "5d52b76a",
   "metadata": {},
   "outputs": [
    {
     "data": {
      "text/plain": [
       "299342.27907583845"
      ]
     },
     "execution_count": 24,
     "metadata": {},
     "output_type": "execute_result"
    }
   ],
   "source": [
    "Q_izl = Q_t - 1.2*P_el\n",
    "Q_izl"
   ]
  },
  {
   "cell_type": "markdown",
   "id": "199d06cc",
   "metadata": {},
   "source": [
    "Площадь поверхности излучателя."
   ]
  },
  {
   "cell_type": "code",
   "execution_count": 25,
   "id": "ff6ffecf",
   "metadata": {},
   "outputs": [
    {
     "data": {
      "text/plain": [
       "14.64678753858017"
      ]
     },
     "execution_count": 25,
     "metadata": {},
     "output_type": "execute_result"
    }
   ],
   "source": [
    "eps = 0.88\n",
    "sig = 5.67*10**-8\n",
    "T = 800\n",
    "F_izl = Q_izl/(eps*sig*T**4)\n",
    "F_izl"
   ]
  },
  {
   "cell_type": "markdown",
   "id": "1af6fb37",
   "metadata": {},
   "source": [
    "Масса излучателя."
   ]
  },
  {
   "cell_type": "markdown",
   "id": "2d37c668",
   "metadata": {},
   "source": [
    "Аппроксимация исходных графиков зависимости толщины стенки холодильника-излучателя, в зависимости от площади, времени работы и надежности работы."
   ]
  },
  {
   "cell_type": "code",
   "execution_count": 26,
   "id": "037e84c1",
   "metadata": {},
   "outputs": [],
   "source": [
    "# Аппроксимирующая функция.\n",
    "def func_delt(x, a, b, c):\n",
    "    return a*x**b+c"
   ]
  },
  {
   "cell_type": "code",
   "execution_count": 27,
   "id": "321b1c7e",
   "metadata": {},
   "outputs": [],
   "source": [
    "# Данные точек из исходных графиков.\n",
    "delt_i_99 = np.array([2, 2.1, 4,7, 11.5, 16.5])\n",
    "delt_i_90 = np.array([1, 1.1, 1.5, 4, 7, 11.5])\n",
    "ft = np.array([10, 100, 1000, 10000, 100000, 1000000])"
   ]
  },
  {
   "cell_type": "code",
   "execution_count": 28,
   "id": "cce70f5f",
   "metadata": {},
   "outputs": [],
   "source": [
    "# Аппроксимация графиков.\n",
    "popt99, pcov = scipy.optimize.curve_fit(func_delt, ft, delt_i_99)\n",
    "popt90, pcov = scipy.optimize.curve_fit(func_delt, ft, delt_i_90)\n",
    "if P == 90: poptP = popt90\n",
    "if P == 99: poptP = popt99"
   ]
  },
  {
   "cell_type": "code",
   "execution_count": 29,
   "id": "c8cb22dd",
   "metadata": {},
   "outputs": [
    {
     "data": {
      "text/plain": [
       "Text(0, 0.5, 'delta, мм')"
      ]
     },
     "execution_count": 29,
     "metadata": {},
     "output_type": "execute_result"
    },
    {
     "data": {
      "image/png": "[encoded data removed]",
      "text/plain": [
       "<Figure size 576x432 with 1 Axes>"
      ]
     },
     "metadata": {
      "needs_background": "light"
     },
     "output_type": "display_data"
    }
   ],
   "source": [
    "# Вывод графиков.\n",
    "graph = sns.lineplot(ft, delt_i_90, label='Исходный P0=0.9')\n",
    "graph = sns.lineplot(ft, func_delt(ft, *popt90), label='Аппроксимированный P0=0.9')\n",
    "graph = sns.lineplot(ft, delt_i_99, label='Исходный P0=0.99')\n",
    "graph = sns.lineplot(ft, func_delt(ft, *popt99), label='Аппроксимированный P0=0.99')\n",
    "graph.set(xscale='log')\n",
    "graph.set_title('Изменение потребной толщины стенки излучателя delta в зависимости от его площади,\\\n",
    " времени работы и надежности')\n",
    "graph.set_xlabel('F_изл, м^2*сут')\n",
    "graph.set_ylabel('delta, мм')"
   ]
  },
  {
   "cell_type": "markdown",
   "id": "86cfc812",
   "metadata": {},
   "source": [
    "Масса и диаметр излучателя"
   ]
  },
  {
   "cell_type": "code",
   "execution_count": 30,
   "id": "abcaa94b",
   "metadata": {},
   "outputs": [
    {
     "data": {
      "text/plain": [
       "(689.3159506338274, 0.005276076596145066)"
      ]
     },
     "execution_count": 30,
     "metadata": {},
     "output_type": "execute_result"
    }
   ],
   "source": [
    "d_izl = func_delt(F_izl*t*365, *poptP)/1000\n",
    "G_izl = F_izl*d_izl*ro_izl\n",
    "G_izl, d_izl"
   ]
  },
  {
   "cell_type": "markdown",
   "id": "609ec68c",
   "metadata": {},
   "source": [
    "Доза стойкости аппаратуры."
   ]
  },
  {
   "cell_type": "code",
   "execution_count": 31,
   "id": "b49e3af7",
   "metadata": {},
   "outputs": [],
   "source": [
    "Doz_a = 10**14"
   ]
  },
  {
   "cell_type": "markdown",
   "id": "4f239ae5",
   "metadata": {},
   "source": [
    "Площадь активной зоны."
   ]
  },
  {
   "cell_type": "code",
   "execution_count": 32,
   "id": "5ec0e6d6",
   "metadata": {},
   "outputs": [
    {
     "data": {
      "text/plain": [
       "0.060968188426424486"
      ]
     },
     "execution_count": 32,
     "metadata": {},
     "output_type": "execute_result"
    }
   ],
   "source": [
    "F_az = np.pi*D_a**2/4\n",
    "F_az"
   ]
  },
  {
   "cell_type": "markdown",
   "id": "6f5a873f",
   "metadata": {},
   "source": [
    "Доза излучения реактора."
   ]
  },
  {
   "cell_type": "code",
   "execution_count": 33,
   "id": "b9608bef",
   "metadata": {},
   "outputs": [
    {
     "data": {
      "text/plain": [
       "8.759048533822479e+19"
      ]
     },
     "execution_count": 33,
     "metadata": {},
     "output_type": "execute_result"
    }
   ],
   "source": [
    "Doz_r = 7.8*(10**8)*Q_t*t*(3600*24*365)/(F_az*10000)\n",
    "Doz_r"
   ]
  },
  {
   "cell_type": "markdown",
   "id": "8f4833a3",
   "metadata": {},
   "source": [
    "Толщина слоя лития."
   ]
  },
  {
   "cell_type": "code",
   "execution_count": 34,
   "id": "47a581fa",
   "metadata": {},
   "outputs": [
    {
     "data": {
      "text/plain": [
       "1.3414430404906281"
      ]
     },
     "execution_count": 34,
     "metadata": {},
     "output_type": "execute_result"
    }
   ],
   "source": [
    "t_z = -np.log(Doz_a/(B*Doz_r))/0.114\n",
    "t_z = t_z/100\n",
    "t_z"
   ]
  },
  {
   "cell_type": "markdown",
   "id": "a74224ac",
   "metadata": {},
   "source": [
    "Аппроксимация графика зависимости дозового фактора ослабления $В_{(2)}$ от толщины слоя свинца при половинном ослаблении потока излучения."
   ]
  },
  {
   "cell_type": "code",
   "execution_count": 35,
   "id": "1050d809",
   "metadata": {},
   "outputs": [],
   "source": [
    "# Аппроксимирующая функция.\n",
    "def func_Pbdelt(x, a, b):\n",
    "    return a*np.log(x)+b"
   ]
  },
  {
   "cell_type": "code",
   "execution_count": 36,
   "id": "aacabfac",
   "metadata": {},
   "outputs": [],
   "source": [
    "# Данные точек из исходного графика и аппроксимация графика.\n",
    "B2 = np.array([10,5.72727,3.16667,1.84091,1])\n",
    "t_pb_i = np.array([0,2,4,6,8])\n",
    "popt, pcov = scipy.optimize.curve_fit(func_Pbdelt, B2, t_pb_i)"
   ]
  },
  {
   "cell_type": "code",
   "execution_count": 37,
   "id": "00801911",
   "metadata": {},
   "outputs": [
    {
     "data": {
      "text/plain": [
       "Text(0, 0.5, 'В(2)')"
      ]
     },
     "execution_count": 37,
     "metadata": {},
     "output_type": "execute_result"
    },
    {
     "data": {
      "image/png": "[encoded data removed]",
      "text/plain": [
       "<Figure size 576x432 with 1 Axes>"
      ]
     },
     "metadata": {
      "needs_background": "light"
     },
     "output_type": "display_data"
    }
   ],
   "source": [
    "# Вывод графика.\n",
    "# Pb_delt = sns.lineplot(t_pb_i, B2)\n",
    "Pb_delt = sns.lineplot(func_Pbdelt(range(11), *popt), range(11))\n",
    "\n",
    "Pb_delt.set(yscale='log')\n",
    "Pb_delt.set_title('Зависисмость дозового фактора ослабления В(2) от толщины слоя свинца при\\\n",
    " половинном ослаблении потока излучения')\n",
    "Pb_delt.set_xlabel('Толщина слоя свинца, мм')\n",
    "Pb_delt.set_ylabel('В(2)')"
   ]
  },
  {
   "cell_type": "code",
   "execution_count": 38,
   "id": "f0d4554e",
   "metadata": {},
   "outputs": [
    {
     "data": {
      "text/plain": [
       "0.002441990585002768"
      ]
     },
     "execution_count": 38,
     "metadata": {},
     "output_type": "execute_result"
    }
   ],
   "source": [
    "# Толщина свинца\n",
    "t_pb = func_Pbdelt(B, *popt)\n",
    "if t_pb<0.1: t_pb = 0\n",
    "\n",
    "t_pb = t_pb/1000\n",
    "t_pb"
   ]
  },
  {
   "cell_type": "markdown",
   "id": "9e023ea4",
   "metadata": {},
   "source": [
    "Площадь поперечного сечения реактора."
   ]
  },
  {
   "cell_type": "code",
   "execution_count": 39,
   "id": "b476fd06",
   "metadata": {},
   "outputs": [
    {
     "data": {
      "text/plain": [
       "0.12479587952940029"
      ]
     },
     "execution_count": 39,
     "metadata": {},
     "output_type": "execute_result"
    }
   ],
   "source": [
    "F_r = np.pi*(D_a+2*delta)**2/4\n",
    "F_r"
   ]
  },
  {
   "cell_type": "markdown",
   "id": "776a2ac3",
   "metadata": {},
   "source": [
    "Объём защиты."
   ]
  },
  {
   "cell_type": "code",
   "execution_count": 40,
   "id": "a8741927",
   "metadata": {},
   "outputs": [
    {
     "data": {
      "text/plain": [
       "0.16740656407662086"
      ]
     },
     "execution_count": 40,
     "metadata": {},
     "output_type": "execute_result"
    }
   ],
   "source": [
    "V_z = F_r * t_z\n",
    "V_z"
   ]
  },
  {
   "cell_type": "markdown",
   "id": "4d55e873",
   "metadata": {},
   "source": [
    "Масса гидрида лития."
   ]
  },
  {
   "cell_type": "code",
   "execution_count": 41,
   "id": "e141d526",
   "metadata": {},
   "outputs": [
    {
     "data": {
      "text/plain": [
       "485.4790358222005"
      ]
     },
     "execution_count": 41,
     "metadata": {},
     "output_type": "execute_result"
    }
   ],
   "source": [
    "G_lih = V_z * ro_lih\n",
    "G_lih"
   ]
  },
  {
   "cell_type": "markdown",
   "id": "aaab6eb6",
   "metadata": {},
   "source": [
    "Объём свинца."
   ]
  },
  {
   "cell_type": "code",
   "execution_count": 42,
   "id": "8188f401",
   "metadata": {},
   "outputs": [
    {
     "data": {
      "text/plain": [
       "0.0003047503628579351"
      ]
     },
     "execution_count": 42,
     "metadata": {},
     "output_type": "execute_result"
    }
   ],
   "source": [
    "V_pb = F_r * t_pb\n",
    "V_pb"
   ]
  },
  {
   "cell_type": "markdown",
   "id": "fa8a0aea",
   "metadata": {},
   "source": [
    "Масса свинца."
   ]
  },
  {
   "cell_type": "code",
   "execution_count": 43,
   "id": "cc281b55",
   "metadata": {},
   "outputs": [
    {
     "data": {
      "text/plain": [
       "3.4558691148089844"
      ]
     },
     "execution_count": 43,
     "metadata": {},
     "output_type": "execute_result"
    }
   ],
   "source": [
    "G_pb = V_pb * ro_pb\n",
    "G_pb"
   ]
  },
  {
   "cell_type": "markdown",
   "id": "ec6992fe",
   "metadata": {},
   "source": [
    "Масса оболочки."
   ]
  },
  {
   "cell_type": "code",
   "execution_count": 44,
   "id": "cf5cb2f8",
   "metadata": {},
   "outputs": [
    {
     "data": {
      "text/plain": [
       "10.80502088666679"
      ]
     },
     "execution_count": 44,
     "metadata": {},
     "output_type": "execute_result"
    }
   ],
   "source": [
    "G_ob = 2 * F_r * d_z * ro_al + np.pi * (D_a + 2 *delta) * t_z * ro_al * d_z\n",
    "G_ob"
   ]
  },
  {
   "cell_type": "markdown",
   "id": "2fdb19b5",
   "metadata": {},
   "source": [
    "Общая масса реактора-генератора."
   ]
  },
  {
   "cell_type": "code",
   "execution_count": 45,
   "id": "9efdcc4d",
   "metadata": {},
   "outputs": [
    {
     "data": {
      "text/plain": [
       "1381.2094387869392"
      ]
     },
     "execution_count": 45,
     "metadata": {},
     "output_type": "execute_result"
    }
   ],
   "source": [
    "G_rg = G_ob + G_lih + G_pb + G_r + G_izl\n",
    "G_rg"
   ]
  },
  {
   "cell_type": "markdown",
   "id": "0136067f",
   "metadata": {},
   "source": [
    "### Итоговые данные:"
   ]
  },
  {
   "cell_type": "code",
   "execution_count": 46,
   "id": "2afcdb92",
   "metadata": {
    "scrolled": true
   },
   "outputs": [
    {
     "name": "stdout",
     "output_type": "stream",
     "text": [
      "G_рг = 1381.2094387869392 кг - общая масса реактора-генератора\n",
      "\n",
      "G_р = 192.1535623294356 кг - масса реактора\n",
      "G_защ = 499.7399258236763 кг - масса защиты, при дозовом факторе ослабления В(2) = 5\n",
      "G_изл = 689.3159506338274 кг - масса холодильника-излучателя, при P0 = 90\n",
      "\n",
      "D_р = 0.39861641817270627 м - диаметр реактора\n",
      "N_egk = 44 - количество ЭГК\n",
      "\n"
     ]
    }
   ],
   "source": [
    "print(f'G_рг = ', G_rg, ' кг - общая масса реактора-генератора\\n\\n',\n",
    "     'G_р = ', G_r, ' кг - масса реактора\\n',\n",
    "     'G_защ = ', G_ob + G_lih + G_pb, f' кг - масса защиты, при дозовом факторе ослабления В(2) = {B}\\n'\n",
    "     'G_изл = ', G_izl, f' кг - масса холодильника-излучателя, при P0 = {P}\\n\\n',\n",
    "     'D_р = ', D_r, ' м - диаметр реактора\\n',\n",
    "     'N_egk = ', N_k, ' - количество ЭГК\\n', sep='')"
   ]
  },
  {
   "cell_type": "markdown",
   "id": "7e279cbf",
   "metadata": {},
   "source": [
    "#### [В начало.](#Приближенный-расчет-параметров-ядерной-энергетической-установки-с-встроенным-в-активную-зону-термоэмиссионным-преобразователем-одноэлементной-конструкции)"
   ]
  }
 ],
 "metadata": {
  "kernelspec": {
   "display_name": "Python 3 (ipykernel)",
   "language": "python",
   "name": "python3"
  },
  "language_info": {
   "codemirror_mode": {
    "name": "ipython",
    "version": 3
   },
   "file_extension": ".py",
   "mimetype": "text/x-python",
   "name": "python",
   "nbconvert_exporter": "python",
   "pygments_lexer": "ipython3",
   "version": "3.9.7"
  }
 },
 "nbformat": 4,
 "nbformat_minor": 5
}
