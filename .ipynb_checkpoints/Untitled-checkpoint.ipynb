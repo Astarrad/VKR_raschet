{
 "cells": [
  {
   "cell_type": "code",
   "execution_count": 1,
   "id": "15931cc3-5b10-4890-89ce-73d2be57c6ad",
   "metadata": {},
   "outputs": [],
   "source": [
    "import math\n",
    "import numpy as np\n",
    "import pandas as pd\n",
    "import matplotlib.pyplot as plt\n",
    "import scipy"
   ]
  },
  {
   "cell_type": "code",
   "execution_count": null,
   "id": "17941310-0952-4438-be3b-1d792cb1b8dc",
   "metadata": {},
   "outputs": [],
   "source": [
    "M = 3.981*10**14\n",
    "Ro = 6571000\n",
    "Rr = 35780000 + 6371000\n"
   ]
  }
 ],
 "metadata": {
  "kernelspec": {
   "display_name": "Python 3 (ipykernel)",
   "language": "python",
   "name": "python3"
  },
  "language_info": {
   "codemirror_mode": {
    "name": "ipython",
    "version": 3
   },
   "file_extension": ".py",
   "mimetype": "text/x-python",
   "name": "python",
   "nbconvert_exporter": "python",
   "pygments_lexer": "ipython3",
   "version": "3.9.7"
  }
 },
 "nbformat": 4,
 "nbformat_minor": 5
}
